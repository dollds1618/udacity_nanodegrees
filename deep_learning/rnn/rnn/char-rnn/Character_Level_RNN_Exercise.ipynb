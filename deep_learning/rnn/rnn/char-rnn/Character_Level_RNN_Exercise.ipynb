{
 "cells": [
  {
   "cell_type": "markdown",
   "metadata": {},
   "source": [
    "# Character-Level LSTM in PyTorch\n",
    "\n",
    "In this notebook, I'll construct a character-level LSTM with PyTorch. The network will train character by character on some text, then generate new text character by character. As an example, I will train on Anna Karenina. **This model will be able to generate new text based on the text from the book!**\n",
    "\n",
    "This network is based off of Andrej Karpathy's [post on RNNs](http://karpathy.github.io/2015/05/21/rnn-effectiveness/) and [implementation in Torch](https://github.com/karpathy/char-rnn). Below is the general architecture of the character-wise RNN.\n",
    "\n",
    "<img src=\"assets/charseq.jpeg\" width=\"500\">"
   ]
  },
  {
   "cell_type": "markdown",
   "metadata": {},
   "source": [
    "First let's load in our required resources for data loading and model creation."
   ]
  },
  {
   "cell_type": "code",
   "execution_count": 1,
   "metadata": {},
   "outputs": [],
   "source": [
    "import numpy as np\n",
    "import torch\n",
    "from torch import nn\n",
    "import torch.nn.functional as F"
   ]
  },
  {
   "cell_type": "markdown",
   "metadata": {},
   "source": [
    "## Load in Data\n",
    "\n",
    "Then, we'll load the Anna Karenina text file and convert it into integers for our network to use. "
   ]
  },
  {
   "cell_type": "code",
   "execution_count": 2,
   "metadata": {},
   "outputs": [],
   "source": [
    "# open text file and read in data as `text`\n",
    "with open('data/anna.txt', 'r') as f:\n",
    "    text = f.read()"
   ]
  },
  {
   "cell_type": "markdown",
   "metadata": {},
   "source": [
    "Let's check out the first 100 characters, make sure everything is peachy. According to the [American Book Review](http://americanbookreview.org/100bestlines.asp), this is the 6th best first line of a book ever."
   ]
  },
  {
   "cell_type": "code",
   "execution_count": 3,
   "metadata": {},
   "outputs": [
    {
     "data": {
      "text/plain": [
       "'Chapter 1\\n\\n\\nHappy families are all alike; every unhappy family is unhappy in its own\\nway.\\n\\nEverythin'"
      ]
     },
     "execution_count": 3,
     "metadata": {},
     "output_type": "execute_result"
    }
   ],
   "source": [
    "text[:100]"
   ]
  },
  {
   "cell_type": "markdown",
   "metadata": {},
   "source": [
    "### Tokenization\n",
    "\n",
    "In the cells, below, I'm creating a couple **dictionaries** to convert the characters to and from integers. Encoding the characters as integers makes it easier to use as input in the network."
   ]
  },
  {
   "cell_type": "code",
   "execution_count": 4,
   "metadata": {},
   "outputs": [],
   "source": [
    "# encode the text and map each character to an integer and vice versa\n",
    "\n",
    "# we create two dictionaries:\n",
    "# 1. int2char, which maps integers to characters\n",
    "# 2. char2int, which maps characters to unique integers\n",
    "chars = tuple(set(text))\n",
    "int2char = dict(enumerate(chars))\n",
    "char2int = {ch: ii for ii, ch in int2char.items()}\n",
    "\n",
    "# encode the text\n",
    "encoded = np.array([char2int[ch] for ch in text])"
   ]
  },
  {
   "cell_type": "markdown",
   "metadata": {},
   "source": [
    "And we can see those same characters from above, encoded as integers."
   ]
  },
  {
   "cell_type": "code",
   "execution_count": 5,
   "metadata": {},
   "outputs": [
    {
     "data": {
      "text/plain": [
       "array([20,  9, 44, 56,  4, 39,  2, 13, 28, 29, 29, 29, 43, 44, 56, 56,  5,\n",
       "       13,  7, 44, 40, 58, 14, 58, 39, 27, 13, 44,  2, 39, 13, 44, 14, 14,\n",
       "       13, 44, 14, 58, 34, 39, 18, 13, 39, 52, 39,  2,  5, 13, 46, 45,  9,\n",
       "       44, 56, 56,  5, 13,  7, 44, 40, 58, 14,  5, 13, 58, 27, 13, 46, 45,\n",
       "        9, 44, 56, 56,  5, 13, 58, 45, 13, 58,  4, 27, 13, 57, 24, 45, 29,\n",
       "       24, 44,  5, 47, 29, 29, 79, 52, 39,  2,  5,  4,  9, 58, 45])"
      ]
     },
     "execution_count": 5,
     "metadata": {},
     "output_type": "execute_result"
    }
   ],
   "source": [
    "encoded[:100]"
   ]
  },
  {
   "cell_type": "markdown",
   "metadata": {},
   "source": [
    "## Pre-processing the data\n",
    "\n",
    "As you can see in our char-RNN image above, our LSTM expects an input that is **one-hot encoded** meaning that each character is converted into an integer (via our created dictionary) and *then* converted into a column vector where only it's corresponding integer index will have the value of 1 and the rest of the vector will be filled with 0's. Since we're one-hot encoding the data, let's make a function to do that!\n"
   ]
  },
  {
   "cell_type": "code",
   "execution_count": 6,
   "metadata": {},
   "outputs": [],
   "source": [
    "def one_hot_encode(arr, n_labels):\n",
    "    \n",
    "    # Initialize the the encoded array\n",
    "    one_hot = np.zeros((np.multiply(*arr.shape), n_labels), dtype=np.float32)\n",
    "    \n",
    "    # Fill the appropriate elements with ones\n",
    "    one_hot[np.arange(one_hot.shape[0]), arr.flatten()] = 1.\n",
    "    \n",
    "    # Finally reshape it to get back to the original array\n",
    "    one_hot = one_hot.reshape((*arr.shape, n_labels))\n",
    "    \n",
    "    return one_hot"
   ]
  },
  {
   "cell_type": "code",
   "execution_count": 7,
   "metadata": {},
   "outputs": [
    {
     "name": "stdout",
     "output_type": "stream",
     "text": [
      "[[[ 0.  0.  0.  1.  0.  0.  0.  0.]\n",
      "  [ 0.  0.  0.  0.  0.  1.  0.  0.]\n",
      "  [ 0.  1.  0.  0.  0.  0.  0.  0.]]]\n"
     ]
    }
   ],
   "source": [
    "# check that the function works as expected\n",
    "test_seq = np.array([[3, 5, 1]])\n",
    "one_hot = one_hot_encode(test_seq, 8)\n",
    "\n",
    "print(one_hot)"
   ]
  },
  {
   "cell_type": "markdown",
   "metadata": {},
   "source": [
    "## Making training mini-batches\n",
    "\n",
    "\n",
    "To train on this data, we also want to create mini-batches for training. Remember that we want our batches to be multiple sequences of some desired number of sequence steps. Considering a simple example, our batches would look like this:\n",
    "\n",
    "<img src=\"assets/sequence_batching@1x.png\" width=500px>\n",
    "\n",
    "\n",
    "<br>\n",
    "\n",
    "In this example, we'll take the encoded characters (passed in as the `arr` parameter) and split them into multiple sequences, given by `batch_size`. Each of our sequences will be `seq_length` long.\n",
    "\n",
    "### Creating Batches\n",
    "\n",
    "**1. The first thing we need to do is discard some of the text so we only have completely full mini-batches. **\n",
    "\n",
    "Each batch contains $N \\times M$ characters, where $N$ is the batch size (the number of sequences in a batch) and $M$ is the seq_length or number of time steps in a sequence. Then, to get the total number of batches, $K$, that we can make from the array `arr`, you divide the length of `arr` by the number of characters per batch. Once you know the number of batches, you can get the total number of characters to keep from `arr`, $N * M * K$.\n",
    "\n",
    "**2. After that, we need to split `arr` into $N$ batches. ** \n",
    "\n",
    "You can do this using `arr.reshape(size)` where `size` is a tuple containing the dimensions sizes of the reshaped array. We know we want $N$ sequences in a batch, so let's make that the size of the first dimension. For the second dimension, you can use `-1` as a placeholder in the size, it'll fill up the array with the appropriate data for you. After this, you should have an array that is $N \\times (M * K)$.\n",
    "\n",
    "**3. Now that we have this array, we can iterate through it to get our mini-batches. **\n",
    "\n",
    "The idea is each batch is a $N \\times M$ window on the $N \\times (M * K)$ array. For each subsequent batch, the window moves over by `seq_length`. We also want to create both the input and target arrays. Remember that the targets are just the inputs shifted over by one character. The way I like to do this window is use `range` to take steps of size `n_steps` from $0$ to `arr.shape[1]`, the total number of tokens in each sequence. That way, the integers you get from `range` always point to the start of a batch, and each window is `seq_length` wide.\n",
    "\n",
    "> **TODO:** Write the code for creating batches in the function below. The exercises in this notebook _will not be easy_. I've provided a notebook with solutions alongside this notebook. If you get stuck, checkout the solutions. The most important thing is that you don't copy and paste the code into here, **type out the solution code yourself.**"
   ]
  },
  {
   "cell_type": "code",
   "execution_count": 8,
   "metadata": {},
   "outputs": [],
   "source": [
    "def get_batches(arr, batch_size, seq_length):\n",
    "    '''Create a generator that returns batches of size\n",
    "       batch_size x seq_length from arr.\n",
    "       \n",
    "       Arguments\n",
    "       ---------\n",
    "       arr: Array you want to make batches from\n",
    "       batch_size: Batch size, the number of sequences per batch\n",
    "       seq_length: Number of encoded chars in a sequence\n",
    "    '''\n",
    "    \n",
    "    len_batch_size = batch_size * seq_length\n",
    "    ## TODO: Get the number of batches we can make\n",
    "    n_batches = len(arr) // len_batch_size\n",
    "    \n",
    "    ## TODO: Keep only enough characters to make full batches\n",
    "    arr = arr[:n_batches * len_batch_size]\n",
    "    \n",
    "    ## TODO: Reshape into batch_size rows\n",
    "    arr = arr.reshape((batch_size, -1))\n",
    "    \n",
    "    ## TODO: Iterate over the batches using a window of size seq_length\n",
    "    for n in range(0, arr.shape[1], seq_length):\n",
    "        # The features\n",
    "        x = arr[:, n:n+seq_length]\n",
    "        # The targets, shifted by one\n",
    "        y = np.zeros_like(x)\n",
    "        try:\n",
    "            y[:, :-1], y[:, -1] = x[:, 1:], x[:, n+seq_length]\n",
    "        except IndexError:\n",
    "            y[:, :-1], y[:, -1] = x[:, 1:], x[:, 0]\n",
    "        yield x, y"
   ]
  },
  {
   "cell_type": "markdown",
   "metadata": {},
   "source": [
    "### Test Your Implementation\n",
    "\n",
    "Now I'll make some data sets and we can check out what's going on as we batch data. Here, as an example, I'm going to use a batch size of 8 and 50 sequence steps."
   ]
  },
  {
   "cell_type": "code",
   "execution_count": 9,
   "metadata": {},
   "outputs": [],
   "source": [
    "batches = get_batches(encoded, 8, 50)\n",
    "x, y = next(batches)"
   ]
  },
  {
   "cell_type": "code",
   "execution_count": 10,
   "metadata": {},
   "outputs": [
    {
     "name": "stdout",
     "output_type": "stream",
     "text": [
      "x\n",
      " [[20  9 44 56  4 39  2 13 28 29]\n",
      " [27 57 45 13  4  9 44  4 13 44]\n",
      " [39 45 51 13 57  2 13 44 13  7]\n",
      " [27 13  4  9 39 13 65  9 58 39]\n",
      " [13 27 44 24 13  9 39  2 13  4]\n",
      " [65 46 27 27 58 57 45 13 44 45]\n",
      " [13 30 45 45 44 13  9 44 51 13]\n",
      " [37 76 14 57 45 27 34  5 47 13]]\n",
      "\n",
      "y\n",
      " [[ 9 44 56  4 39  2 13 28 29 29]\n",
      " [57 45 13  4  9 44  4 13 44  4]\n",
      " [45 51 13 57  2 13 44 13  7 57]\n",
      " [13  4  9 39 13 65  9 58 39  7]\n",
      " [27 44 24 13  9 39  2 13  4 39]\n",
      " [46 27 27 58 57 45 13 44 45 51]\n",
      " [30 45 45 44 13  9 44 51 13 27]\n",
      " [76 14 57 45 27 34  5 47 13 19]]\n"
     ]
    }
   ],
   "source": [
    "# printing out the first 10 items in a sequence\n",
    "print('x\\n', x[:10, :10])\n",
    "print('\\ny\\n', y[:10, :10])"
   ]
  },
  {
   "cell_type": "markdown",
   "metadata": {},
   "source": [
    "If you implemented `get_batches` correctly, the above output should look something like \n",
    "```\n",
    "x\n",
    " [[25  8 60 11 45 27 28 73  1  2]\n",
    " [17  7 20 73 45  8 60 45 73 60]\n",
    " [27 20 80 73  7 28 73 60 73 65]\n",
    " [17 73 45  8 27 73 66  8 46 27]\n",
    " [73 17 60 12 73  8 27 28 73 45]\n",
    " [66 64 17 17 46  7 20 73 60 20]\n",
    " [73 76 20 20 60 73  8 60 80 73]\n",
    " [47 35 43  7 20 17 24 50 37 73]]\n",
    "\n",
    "y\n",
    " [[ 8 60 11 45 27 28 73  1  2  2]\n",
    " [ 7 20 73 45  8 60 45 73 60 45]\n",
    " [20 80 73  7 28 73 60 73 65  7]\n",
    " [73 45  8 27 73 66  8 46 27 65]\n",
    " [17 60 12 73  8 27 28 73 45 27]\n",
    " [64 17 17 46  7 20 73 60 20 80]\n",
    " [76 20 20 60 73  8 60 80 73 17]\n",
    " [35 43  7 20 17 24 50 37 73 36]]\n",
    " ```\n",
    " although the exact numbers may be different. Check to make sure the data is shifted over one step for `y`."
   ]
  },
  {
   "cell_type": "markdown",
   "metadata": {},
   "source": [
    "---\n",
    "## Defining the network with PyTorch\n",
    "\n",
    "Below is where you'll define the network.\n",
    "\n",
    "<img src=\"assets/charRNN.png\" width=500px>\n",
    "\n",
    "Next, you'll use PyTorch to define the architecture of the network. We start by defining the layers and operations we want. Then, define a method for the forward pass. You've also been given a method for predicting characters."
   ]
  },
  {
   "cell_type": "markdown",
   "metadata": {},
   "source": [
    "### Model Structure\n",
    "\n",
    "In `__init__` the suggested structure is as follows:\n",
    "* Create and store the necessary dictionaries (this has been done for you)\n",
    "* Define an LSTM layer that takes as params: an input size (the number of characters), a hidden layer size `n_hidden`, a number of layers `n_layers`, a dropout probability `drop_prob`, and a batch_first boolean (True, since we are batching)\n",
    "* Define a dropout layer with `dropout_prob`\n",
    "* Define a fully-connected layer with params: input size `n_hidden` and output size (the number of characters)\n",
    "* Finally, initialize the weights (again, this has been given)\n",
    "\n",
    "Note that some parameters have been named and given in the `__init__` function, and we use them and store them by doing something like `self.drop_prob = drop_prob`."
   ]
  },
  {
   "cell_type": "markdown",
   "metadata": {},
   "source": [
    "---\n",
    "### LSTM Inputs/Outputs\n",
    "\n",
    "You can create a basic [LSTM layer](https://pytorch.org/docs/stable/nn.html#lstm) as follows\n",
    "\n",
    "```python\n",
    "self.lstm = nn.LSTM(input_size, n_hidden, n_layers, \n",
    "                            dropout=drop_prob, batch_first=True)\n",
    "```\n",
    "\n",
    "where `input_size` is the number of characters this cell expects to see as sequential input, and `n_hidden` is the number of units in the hidden layers in the cell. And we can add dropout by adding a dropout parameter with a specified probability; this will automatically add dropout to the inputs or outputs. Finally, in the `forward` function, we can stack up the LSTM cells into layers using `.view`. With this, you pass in a list of cells and it will send the output of one cell into the next cell.\n",
    "\n",
    "We also need to create an initial hidden state of all zeros. This is done like so\n",
    "\n",
    "```python\n",
    "self.init_hidden()\n",
    "```"
   ]
  },
  {
   "cell_type": "code",
   "execution_count": 11,
   "metadata": {},
   "outputs": [
    {
     "name": "stdout",
     "output_type": "stream",
     "text": [
      "Training on GPU!\n"
     ]
    }
   ],
   "source": [
    "# check if GPU is available\n",
    "train_on_gpu = torch.cuda.is_available()\n",
    "if(train_on_gpu):\n",
    "    print('Training on GPU!')\n",
    "else: \n",
    "    print('No GPU available, training on CPU; consider making n_epochs very small.')"
   ]
  },
  {
   "cell_type": "code",
   "execution_count": 12,
   "metadata": {},
   "outputs": [],
   "source": [
    "class CharRNN(nn.Module):\n",
    "    \n",
    "    def __init__(self, tokens, n_hidden=256, n_layers=2,\n",
    "                               drop_prob=0.5, lr=0.001):\n",
    "        super().__init__()\n",
    "        self.drop_prob = drop_prob\n",
    "        self.n_layers = n_layers\n",
    "        self.n_hidden = n_hidden\n",
    "        self.lr = lr\n",
    "        \n",
    "        # creating character dictionaries\n",
    "        self.chars = tokens\n",
    "        self.int2char = dict(enumerate(self.chars))\n",
    "        self.char2int = {ch: ii for ii, ch in self.int2char.items()}\n",
    "        \n",
    "        ## TODO: define the layers of the model\n",
    "        self.lstm = nn.LSTM(len(self.chars), n_hidden, n_layers, dropout=drop_prob, batch_first=True)\n",
    "        self.dropout = nn.Dropout(drop_prob)\n",
    "        self.fc = nn.Linear(n_hidden, len(self.chars))\n",
    "    \n",
    "    def forward(self, x, hidden):\n",
    "        ''' Forward pass through the network. \n",
    "            These inputs are x, and the hidden/cell state `hidden`. '''\n",
    "                \n",
    "        ## TODO: Get the outputs and the new hidden state from the lstm\n",
    "        l_out, hidden = self.lstm(x, hidden)\n",
    "        out = self.dropout(l_out)\n",
    "        out = out.contiguous().view(-1, self.n_hidden)\n",
    "        out = self.fc(out)\n",
    "        \n",
    "        # return the final output and the hidden state\n",
    "        return out, hidden\n",
    "    \n",
    "    \n",
    "    def init_hidden(self, batch_size):\n",
    "        ''' Initializes hidden state '''\n",
    "        # Create two new tensors with sizes n_layers x batch_size x n_hidden,\n",
    "        # initialized to zero, for hidden state and cell state of LSTM\n",
    "        weight = next(self.parameters()).data\n",
    "        \n",
    "        if (train_on_gpu):\n",
    "            hidden = (weight.new(self.n_layers, batch_size, self.n_hidden).zero_().cuda(),\n",
    "                  weight.new(self.n_layers, batch_size, self.n_hidden).zero_().cuda())\n",
    "        else:\n",
    "            hidden = (weight.new(self.n_layers, batch_size, self.n_hidden).zero_(),\n",
    "                      weight.new(self.n_layers, batch_size, self.n_hidden).zero_())\n",
    "        \n",
    "        return hidden\n",
    "        "
   ]
  },
  {
   "cell_type": "markdown",
   "metadata": {},
   "source": [
    "## Time to train\n",
    "\n",
    "The train function gives us the ability to set the number of epochs, the learning rate, and other parameters.\n",
    "\n",
    "Below we're using an Adam optimizer and cross entropy loss since we are looking at character class scores as output. We calculate the loss and perform backpropagation, as usual!\n",
    "\n",
    "A couple of details about training: \n",
    ">* Within the batch loop, we detach the hidden state from its history; this time setting it equal to a new *tuple* variable because an LSTM has a hidden state that is a tuple of the hidden and cell states.\n",
    "* We use [`clip_grad_norm_`](https://pytorch.org/docs/stable/_modules/torch/nn/utils/clip_grad.html) to help prevent exploding gradients."
   ]
  },
  {
   "cell_type": "code",
   "execution_count": 13,
   "metadata": {},
   "outputs": [],
   "source": [
    "def train(net, data, epochs=10, batch_size=10, seq_length=50, lr=0.001, clip=5, val_frac=0.1, print_every=10):\n",
    "    ''' Training a network \n",
    "    \n",
    "        Arguments\n",
    "        ---------\n",
    "        \n",
    "        net: CharRNN network\n",
    "        data: text data to train the network\n",
    "        epochs: Number of epochs to train\n",
    "        batch_size: Number of mini-sequences per mini-batch, aka batch size\n",
    "        seq_length: Number of character steps per mini-batch\n",
    "        lr: learning rate\n",
    "        clip: gradient clipping\n",
    "        val_frac: Fraction of data to hold out for validation\n",
    "        print_every: Number of steps for printing training and validation loss\n",
    "    \n",
    "    '''\n",
    "    net.train()\n",
    "    \n",
    "    opt = torch.optim.Adam(net.parameters(), lr=lr)\n",
    "    criterion = nn.CrossEntropyLoss()\n",
    "    \n",
    "    # create training and validation data\n",
    "    val_idx = int(len(data)*(1-val_frac))\n",
    "    data, val_data = data[:val_idx], data[val_idx:]\n",
    "    \n",
    "    if(train_on_gpu):\n",
    "        net.cuda()\n",
    "    \n",
    "    counter = 0\n",
    "    n_chars = len(net.chars)\n",
    "    for e in range(epochs):\n",
    "        if e == 0:\n",
    "            print('Training started')\n",
    "        # initialize hidden state\n",
    "        h = net.init_hidden(batch_size)\n",
    "        \n",
    "        for x, y in get_batches(data, batch_size, seq_length):\n",
    "            counter += 1\n",
    "            \n",
    "            # One-hot encode our data and make them Torch tensors\n",
    "            x = one_hot_encode(x, n_chars)\n",
    "            inputs, targets = torch.from_numpy(x), torch.from_numpy(y)\n",
    "            \n",
    "            if(train_on_gpu):\n",
    "                inputs, targets = inputs.cuda(), targets.cuda()\n",
    "\n",
    "            # Creating new variables for the hidden state, otherwise\n",
    "            # we'd backprop through the entire training history\n",
    "            h = tuple([each.data for each in h])\n",
    "\n",
    "            # zero accumulated gradients\n",
    "            net.zero_grad()\n",
    "            \n",
    "            # get the output from the model\n",
    "            output, h = net(inputs, h)\n",
    "            \n",
    "            # calculate the loss and perform backprop\n",
    "            loss = criterion(output, targets.view(batch_size*seq_length))\n",
    "            loss.backward()\n",
    "            # `clip_grad_norm` helps prevent the exploding gradient problem in RNNs / LSTMs.\n",
    "            nn.utils.clip_grad_norm_(net.parameters(), clip)\n",
    "            opt.step()\n",
    "            \n",
    "            # loss stats\n",
    "            if counter % print_every == 0:\n",
    "                # Get validation loss\n",
    "                val_h = net.init_hidden(batch_size)\n",
    "                val_losses = []\n",
    "                net.eval()\n",
    "                for x, y in get_batches(val_data, batch_size, seq_length):\n",
    "                    # One-hot encode our data and make them Torch tensors\n",
    "                    x = one_hot_encode(x, n_chars)\n",
    "                    x, y = torch.from_numpy(x), torch.from_numpy(y)\n",
    "                    \n",
    "                    # Creating new variables for the hidden state, otherwise\n",
    "                    # we'd backprop through the entire training history\n",
    "                    val_h = tuple([each.data for each in val_h])\n",
    "                    \n",
    "                    inputs, targets = x, y\n",
    "                    if(train_on_gpu):\n",
    "                        inputs, targets = inputs.cuda(), targets.cuda()\n",
    "\n",
    "                    output, val_h = net(inputs, val_h)\n",
    "                    val_loss = criterion(output, targets.view(batch_size*seq_length))\n",
    "                \n",
    "                    val_losses.append(val_loss.item())\n",
    "                \n",
    "                net.train() # reset to train mode after iterationg through validation data\n",
    "                \n",
    "                print(\"Epoch: {}/{}...\".format(e+1, epochs),\n",
    "                      \"Step: {}...\".format(counter),\n",
    "                      \"Loss: {:.4f}...\".format(loss.item()),\n",
    "                      \"Val Loss: {:.4f}\".format(np.mean(val_losses)))"
   ]
  },
  {
   "cell_type": "markdown",
   "metadata": {},
   "source": [
    "## Instantiating the model\n",
    "\n",
    "Now we can actually train the network. First we'll create the network itself, with some given hyperparameters. Then, define the mini-batches sizes, and start training!"
   ]
  },
  {
   "cell_type": "code",
   "execution_count": 14,
   "metadata": {},
   "outputs": [
    {
     "name": "stdout",
     "output_type": "stream",
     "text": [
      "CharRNN(\n",
      "  (lstm): LSTM(83, 512, num_layers=2, batch_first=True, dropout=0.5)\n",
      "  (dropout): Dropout(p=0.5)\n",
      "  (fc): Linear(in_features=512, out_features=83, bias=True)\n",
      ")\n"
     ]
    }
   ],
   "source": [
    "## TODO: set you model hyperparameters\n",
    "# define and print the net\n",
    "n_hidden= 512\n",
    "n_layers= 2\n",
    "\n",
    "net = CharRNN(chars, n_hidden, n_layers)\n",
    "print(net)"
   ]
  },
  {
   "cell_type": "markdown",
   "metadata": {},
   "source": [
    "### Set your training hyperparameters!"
   ]
  },
  {
   "cell_type": "code",
   "execution_count": 15,
   "metadata": {},
   "outputs": [],
   "source": [
    "import gc\n",
    "gc.collect()\n",
    "torch.cuda.empty_cache()"
   ]
  },
  {
   "cell_type": "code",
   "execution_count": 16,
   "metadata": {
    "collapsed": true
   },
   "outputs": [
    {
     "name": "stdout",
     "output_type": "stream",
     "text": [
      "Training started\n",
      "Epoch: 1/20... Step: 100... Loss: 3.0983... Val Loss: 3.0864\n",
      "Epoch: 1/20... Step: 200... Loss: 2.4647... Val Loss: 2.4229\n",
      "Epoch: 2/20... Step: 300... Loss: 2.2272... Val Loss: 2.2030\n",
      "Epoch: 2/20... Step: 400... Loss: 2.0065... Val Loss: 2.0505\n",
      "Epoch: 2/20... Step: 500... Loss: 1.9195... Val Loss: 1.9356\n",
      "Epoch: 3/20... Step: 600... Loss: 1.8412... Val Loss: 1.8405\n",
      "Epoch: 3/20... Step: 700... Loss: 1.7713... Val Loss: 1.7645\n",
      "Epoch: 3/20... Step: 800... Loss: 1.6954... Val Loss: 1.7104\n",
      "Epoch: 4/20... Step: 900... Loss: 1.6807... Val Loss: 1.6653\n",
      "Epoch: 4/20... Step: 1000... Loss: 1.5806... Val Loss: 1.6285\n",
      "Epoch: 4/20... Step: 1100... Loss: 1.5696... Val Loss: 1.5910\n",
      "Epoch: 5/20... Step: 1200... Loss: 1.5077... Val Loss: 1.5653\n",
      "Epoch: 5/20... Step: 1300... Loss: 1.5196... Val Loss: 1.5400\n",
      "Epoch: 6/20... Step: 1400... Loss: 1.5093... Val Loss: 1.5193\n",
      "Epoch: 6/20... Step: 1500... Loss: 1.3997... Val Loss: 1.5070\n",
      "Epoch: 6/20... Step: 1600... Loss: 1.4542... Val Loss: 1.4931\n",
      "Epoch: 7/20... Step: 1700... Loss: 1.4177... Val Loss: 1.4729\n",
      "Epoch: 7/20... Step: 1800... Loss: 1.3839... Val Loss: 1.4627\n",
      "Epoch: 7/20... Step: 1900... Loss: 1.3774... Val Loss: 1.4517\n",
      "Epoch: 8/20... Step: 2000... Loss: 1.4226... Val Loss: 1.4400\n",
      "Epoch: 8/20... Step: 2100... Loss: 1.3828... Val Loss: 1.4348\n",
      "Epoch: 8/20... Step: 2200... Loss: 1.3936... Val Loss: 1.4278\n",
      "Epoch: 9/20... Step: 2300... Loss: 1.3476... Val Loss: 1.4258\n",
      "Epoch: 9/20... Step: 2400... Loss: 1.3389... Val Loss: 1.4152\n",
      "Epoch: 9/20... Step: 2500... Loss: 1.3062... Val Loss: 1.4127\n",
      "Epoch: 10/20... Step: 2600... Loss: 1.3308... Val Loss: 1.4066\n",
      "Epoch: 10/20... Step: 2700... Loss: 1.3148... Val Loss: 1.3977\n",
      "Epoch: 11/20... Step: 2800... Loss: 1.3037... Val Loss: 1.3925\n",
      "Epoch: 11/20... Step: 2900... Loss: 1.3187... Val Loss: 1.3913\n",
      "Epoch: 11/20... Step: 3000... Loss: 1.2955... Val Loss: 1.3860\n",
      "Epoch: 12/20... Step: 3100... Loss: 1.3080... Val Loss: 1.3841\n",
      "Epoch: 12/20... Step: 3200... Loss: 1.3078... Val Loss: 1.3777\n",
      "Epoch: 12/20... Step: 3300... Loss: 1.3111... Val Loss: 1.3787\n",
      "Epoch: 13/20... Step: 3400... Loss: 1.2902... Val Loss: 1.3714\n",
      "Epoch: 13/20... Step: 3500... Loss: 1.2831... Val Loss: 1.3697\n",
      "Epoch: 13/20... Step: 3600... Loss: 1.2853... Val Loss: 1.3694\n",
      "Epoch: 14/20... Step: 3700... Loss: 1.2253... Val Loss: 1.3676\n",
      "Epoch: 14/20... Step: 3800... Loss: 1.2780... Val Loss: 1.3606\n",
      "Epoch: 14/20... Step: 3900... Loss: 1.2563... Val Loss: 1.3602\n",
      "Epoch: 15/20... Step: 4000... Loss: 1.2754... Val Loss: 1.3566\n",
      "Epoch: 15/20... Step: 4100... Loss: 1.1912... Val Loss: 1.3471\n",
      "Epoch: 16/20... Step: 4200... Loss: 1.2644... Val Loss: 1.3508\n",
      "Epoch: 16/20... Step: 4300... Loss: 1.1937... Val Loss: 1.3423\n",
      "Epoch: 16/20... Step: 4400... Loss: 1.2339... Val Loss: 1.3400\n",
      "Epoch: 17/20... Step: 4500... Loss: 1.2415... Val Loss: 1.3350\n",
      "Epoch: 17/20... Step: 4600... Loss: 1.2297... Val Loss: 1.3348\n",
      "Epoch: 17/20... Step: 4700... Loss: 1.2169... Val Loss: 1.3340\n",
      "Epoch: 18/20... Step: 4800... Loss: 1.1842... Val Loss: 1.3315\n",
      "Epoch: 18/20... Step: 4900... Loss: 1.2105... Val Loss: 1.3269\n",
      "Epoch: 18/20... Step: 5000... Loss: 1.2438... Val Loss: 1.3286\n",
      "Epoch: 19/20... Step: 5100... Loss: 1.1930... Val Loss: 1.3308\n",
      "Epoch: 19/20... Step: 5200... Loss: 1.2085... Val Loss: 1.3237\n",
      "Epoch: 19/20... Step: 5300... Loss: 1.1995... Val Loss: 1.3211\n",
      "Epoch: 20/20... Step: 5400... Loss: 1.1541... Val Loss: 1.3264\n",
      "Epoch: 20/20... Step: 5500... Loss: 1.2077... Val Loss: 1.3222\n"
     ]
    }
   ],
   "source": [
    "batch_size = 64\n",
    "seq_length = 100\n",
    "n_epochs =  20# start small if you are just testing initial behavior\n",
    "\n",
    "# train the model\n",
    "train(net, encoded, epochs=n_epochs, batch_size=batch_size, seq_length=seq_length, lr=0.001, print_every=100)"
   ]
  },
  {
   "cell_type": "code",
   "execution_count": 14,
   "metadata": {
    "collapsed": true
   },
   "outputs": [
    {
     "name": "stdout",
     "output_type": "stream",
     "text": [
      "Epoch: 1/30... Step: 100... Loss: 2.1302... Val Loss: 2.1052\n",
      "Epoch: 2/30... Step: 200... Loss: 1.9410... Val Loss: 1.9425\n",
      "Epoch: 3/30... Step: 300... Loss: 1.8210... Val Loss: 1.7991\n",
      "Epoch: 3/30... Step: 400... Loss: 1.6966... Val Loss: 1.7025\n",
      "Epoch: 4/30... Step: 500... Loss: 1.6609... Val Loss: 1.6319\n",
      "Epoch: 5/30... Step: 600... Loss: 1.5860... Val Loss: 1.5788\n",
      "Epoch: 6/30... Step: 700... Loss: 1.5574... Val Loss: 1.5407\n",
      "Epoch: 6/30... Step: 800... Loss: 1.5174... Val Loss: 1.5040\n",
      "Epoch: 7/30... Step: 900... Loss: 1.4822... Val Loss: 1.4776\n",
      "Epoch: 8/30... Step: 1000... Loss: 1.4450... Val Loss: 1.4542\n",
      "Epoch: 8/30... Step: 1100... Loss: 1.4199... Val Loss: 1.4382\n",
      "Epoch: 9/30... Step: 1200... Loss: 1.3899... Val Loss: 1.4185\n",
      "Epoch: 10/30... Step: 1300... Loss: 1.3821... Val Loss: 1.4010\n",
      "Epoch: 11/30... Step: 1400... Loss: 1.4061... Val Loss: 1.3876\n",
      "Epoch: 11/30... Step: 1500... Loss: 1.3392... Val Loss: 1.3736\n",
      "Epoch: 12/30... Step: 1600... Loss: 1.3198... Val Loss: 1.3648\n",
      "Epoch: 13/30... Step: 1700... Loss: 1.3120... Val Loss: 1.3493\n",
      "Epoch: 13/30... Step: 1800... Loss: 1.3165... Val Loss: 1.3447\n",
      "Epoch: 14/30... Step: 1900... Loss: 1.3132... Val Loss: 1.3391\n",
      "Epoch: 15/30... Step: 2000... Loss: 1.2619... Val Loss: 1.3356\n",
      "Epoch: 16/30... Step: 2100... Loss: 1.2818... Val Loss: 1.3288\n",
      "Epoch: 16/30... Step: 2200... Loss: 1.2654... Val Loss: 1.3240\n",
      "Epoch: 17/30... Step: 2300... Loss: 1.2446... Val Loss: 1.3185\n",
      "Epoch: 18/30... Step: 2400... Loss: 1.2840... Val Loss: 1.3165\n",
      "Epoch: 18/30... Step: 2500... Loss: 1.2413... Val Loss: 1.3127\n",
      "Epoch: 19/30... Step: 2600... Loss: 1.2341... Val Loss: 1.3078\n",
      "Epoch: 20/30... Step: 2700... Loss: 1.2520... Val Loss: 1.3074\n",
      "Epoch: 21/30... Step: 2800... Loss: 1.2680... Val Loss: 1.3045\n",
      "Epoch: 21/30... Step: 2900... Loss: 1.2077... Val Loss: 1.3035\n",
      "Epoch: 22/30... Step: 3000... Loss: 1.2135... Val Loss: 1.3035\n",
      "Epoch: 23/30... Step: 3100... Loss: 1.1958... Val Loss: 1.3042\n",
      "Epoch: 24/30... Step: 3200... Loss: 1.2122... Val Loss: 1.2982\n",
      "Epoch: 24/30... Step: 3300... Loss: 1.2067... Val Loss: 1.2971\n",
      "Epoch: 25/30... Step: 3400... Loss: 1.2185... Val Loss: 1.2954\n",
      "Epoch: 26/30... Step: 3500... Loss: 1.2006... Val Loss: 1.2927\n",
      "Epoch: 26/30... Step: 3600... Loss: 1.1679... Val Loss: 1.2922\n",
      "Epoch: 27/30... Step: 3700... Loss: 1.1832... Val Loss: 1.2965\n",
      "Epoch: 28/30... Step: 3800... Loss: 1.2082... Val Loss: 1.2999\n",
      "Epoch: 29/30... Step: 3900... Loss: 1.1786... Val Loss: 1.2988\n",
      "Epoch: 29/30... Step: 4000... Loss: 1.1840... Val Loss: 1.2893\n",
      "Epoch: 30/30... Step: 4100... Loss: 1.1553... Val Loss: 1.2894\n"
     ]
    }
   ],
   "source": [
    "batch_size = 128\n",
    "seq_length = 100\n",
    "n_epochs =  30# start small if you are just testing initial behavior\n",
    "\n",
    "# train the model\n",
    "train(net, encoded, epochs=n_epochs, batch_size=batch_size, seq_length=seq_length, lr=0.001, print_every=100)"
   ]
  },
  {
   "cell_type": "markdown",
   "metadata": {},
   "source": [
    "## Getting the best model\n",
    "\n",
    "To set your hyperparameters to get the best performance, you'll want to watch the training and validation losses. If your training loss is much lower than the validation loss, you're overfitting. Increase regularization (more dropout) or use a smaller network. If the training and validation losses are close, you're underfitting so you can increase the size of the network."
   ]
  },
  {
   "cell_type": "markdown",
   "metadata": {},
   "source": [
    "## Hyperparameters\n",
    "\n",
    "Here are the hyperparameters for the network.\n",
    "\n",
    "In defining the model:\n",
    "* `n_hidden` - The number of units in the hidden layers.\n",
    "* `n_layers` - Number of hidden LSTM layers to use.\n",
    "\n",
    "We assume that dropout probability and learning rate will be kept at the default, in this example.\n",
    "\n",
    "And in training:\n",
    "* `batch_size` - Number of sequences running through the network in one pass.\n",
    "* `seq_length` - Number of characters in the sequence the network is trained on. Larger is better typically, the network will learn more long range dependencies. But it takes longer to train. 100 is typically a good number here.\n",
    "* `lr` - Learning rate for training\n",
    "\n",
    "Here's some good advice from Andrej Karpathy on training the network. I'm going to copy it in here for your benefit, but also link to [where it originally came from](https://github.com/karpathy/char-rnn#tips-and-tricks).\n",
    "\n",
    "> ## Tips and Tricks\n",
    "\n",
    ">### Monitoring Validation Loss vs. Training Loss\n",
    ">If you're somewhat new to Machine Learning or Neural Networks it can take a bit of expertise to get good models. The most important quantity to keep track of is the difference between your training loss (printed during training) and the validation loss (printed once in a while when the RNN is run on the validation data (by default every 1000 iterations)). In particular:\n",
    "\n",
    "> - If your training loss is much lower than validation loss then this means the network might be **overfitting**. Solutions to this are to decrease your network size, or to increase dropout. For example you could try dropout of 0.5 and so on.\n",
    "> - If your training/validation loss are about equal then your model is **underfitting**. Increase the size of your model (either number of layers or the raw number of neurons per layer)\n",
    "\n",
    "> ### Approximate number of parameters\n",
    "\n",
    "> The two most important parameters that control the model are `n_hidden` and `n_layers`. I would advise that you always use `n_layers` of either 2/3. The `n_hidden` can be adjusted based on how much data you have. The two important quantities to keep track of here are:\n",
    "\n",
    "> - The number of parameters in your model. This is printed when you start training.\n",
    "> - The size of your dataset. 1MB file is approximately 1 million characters.\n",
    "\n",
    ">These two should be about the same order of magnitude. It's a little tricky to tell. Here are some examples:\n",
    "\n",
    "> - I have a 100MB dataset and I'm using the default parameter settings (which currently print 150K parameters). My data size is significantly larger (100 mil >> 0.15 mil), so I expect to heavily underfit. I am thinking I can comfortably afford to make `n_hidden` larger.\n",
    "> - I have a 10MB dataset and running a 10 million parameter model. I'm slightly nervous and I'm carefully monitoring my validation loss. If it's larger than my training loss then I may want to try to increase dropout a bit and see if that helps the validation loss.\n",
    "\n",
    "> ### Best models strategy\n",
    "\n",
    ">The winning strategy to obtaining very good models (if you have the compute time) is to always err on making the network larger (as large as you're willing to wait for it to compute) and then try different dropout values (between 0,1). Whatever model has the best validation performance (the loss, written in the checkpoint filename, low is good) is the one you should use in the end.\n",
    "\n",
    ">It is very common in deep learning to run many different models with many different hyperparameter settings, and in the end take whatever checkpoint gave the best validation performance.\n",
    "\n",
    ">By the way, the size of your training and validation splits are also parameters. Make sure you have a decent amount of data in your validation set or otherwise the validation performance will be noisy and not very informative."
   ]
  },
  {
   "cell_type": "markdown",
   "metadata": {},
   "source": [
    "## Checkpoint\n",
    "\n",
    "After training, we'll save the model so we can load it again later if we need too. Here I'm saving the parameters needed to create the same architecture, the hidden layer hyperparameters and the text characters."
   ]
  },
  {
   "cell_type": "code",
   "execution_count": 17,
   "metadata": {},
   "outputs": [],
   "source": [
    "# change the name, for saving multiple files\n",
    "model_name = 'rnn_20_epoch.net'\n",
    "\n",
    "checkpoint = {'n_hidden': net.n_hidden,\n",
    "              'n_layers': net.n_layers,\n",
    "              'state_dict': net.state_dict(),\n",
    "              'tokens': net.chars}\n",
    "\n",
    "with open(model_name, 'wb') as f:\n",
    "    torch.save(checkpoint, f)"
   ]
  },
  {
   "cell_type": "markdown",
   "metadata": {},
   "source": [
    "---\n",
    "## Making Predictions\n",
    "\n",
    "Now that the model is trained, we'll want to sample from it and make predictions about next characters! To sample, we pass in a character and have the network predict the next character. Then we take that character, pass it back in, and get another predicted character. Just keep doing this and you'll generate a bunch of text!\n",
    "\n",
    "### A note on the `predict`  function\n",
    "\n",
    "The output of our RNN is from a fully-connected layer and it outputs a **distribution of next-character scores**.\n",
    "\n",
    "> To actually get the next character, we apply a softmax function, which gives us a *probability* distribution that we can then sample to predict the next character.\n",
    "\n",
    "### Top K sampling\n",
    "\n",
    "Our predictions come from a categorical probability distribution over all the possible characters. We can make the sample text and make it more reasonable to handle (with less variables) by only considering some $K$ most probable characters. This will prevent the network from giving us completely absurd characters while allowing it to introduce some noise and randomness into the sampled text. Read more about [topk, here](https://pytorch.org/docs/stable/torch.html#torch.topk).\n"
   ]
  },
  {
   "cell_type": "code",
   "execution_count": 18,
   "metadata": {},
   "outputs": [],
   "source": [
    "def predict(net, char, h=None, top_k=None):\n",
    "        ''' Given a character, predict the next character.\n",
    "            Returns the predicted character and the hidden state.\n",
    "        '''\n",
    "        \n",
    "        # tensor inputs\n",
    "        x = np.array([[net.char2int[char]]])\n",
    "        x = one_hot_encode(x, len(net.chars))\n",
    "        inputs = torch.from_numpy(x)\n",
    "        \n",
    "        if(train_on_gpu):\n",
    "            inputs = inputs.cuda()\n",
    "        \n",
    "        # detach hidden state from history\n",
    "        h = tuple([each.data for each in h])\n",
    "        # get the output of the model\n",
    "        out, h = net(inputs, h)\n",
    "\n",
    "        # get the character probabilities\n",
    "        p = F.softmax(out, dim=1).data\n",
    "        if(train_on_gpu):\n",
    "            p = p.cpu() # move to cpu\n",
    "        \n",
    "        # get top characters\n",
    "        if top_k is None:\n",
    "            top_ch = np.arange(len(net.chars))\n",
    "        else:\n",
    "            p, top_ch = p.topk(top_k)\n",
    "            top_ch = top_ch.numpy().squeeze()\n",
    "        \n",
    "        # select the likely next character with some element of randomness\n",
    "        p = p.numpy().squeeze()\n",
    "        char = np.random.choice(top_ch, p=p/p.sum())\n",
    "        \n",
    "        # return the encoded value of the predicted char and the hidden state\n",
    "        return net.int2char[char], h"
   ]
  },
  {
   "cell_type": "markdown",
   "metadata": {},
   "source": [
    "### Priming and generating text \n",
    "\n",
    "Typically you'll want to prime the network so you can build up a hidden state. Otherwise the network will start out generating characters at random. In general the first bunch of characters will be a little rough since it hasn't built up a long history of characters to predict from."
   ]
  },
  {
   "cell_type": "code",
   "execution_count": 19,
   "metadata": {},
   "outputs": [],
   "source": [
    "def sample(net, size, prime='The', top_k=None):\n",
    "        \n",
    "    if(train_on_gpu):\n",
    "        net.cuda()\n",
    "    else:\n",
    "        net.cpu()\n",
    "    \n",
    "    net.eval() # eval mode\n",
    "    \n",
    "    # First off, run through the prime characters\n",
    "    chars = [ch for ch in prime]\n",
    "    h = net.init_hidden(1)\n",
    "    for ch in prime:\n",
    "        char, h = predict(net, ch, h, top_k=top_k)\n",
    "\n",
    "    chars.append(char)\n",
    "    \n",
    "    # Now pass in the previous character and get a new one\n",
    "    for ii in range(size):\n",
    "        char, h = predict(net, chars[-1], h, top_k=top_k)\n",
    "        chars.append(char)\n",
    "\n",
    "    return ''.join(chars)"
   ]
  },
  {
   "cell_type": "code",
   "execution_count": 20,
   "metadata": {},
   "outputs": [
    {
     "name": "stdout",
     "output_type": "stream",
     "text": [
      "Anna\n",
      "had tone to her son. The setting of the prince was standing times the proposed, but to\n",
      "set on, but that had said his wishing to the moment to be ashamed, and was the\n",
      "first part in all the side and said: \"If I consider it.\"\n",
      "\n",
      "\"No; I wanted to give him termicial in the matter.\"\n",
      "\n",
      "\"No, I should not speak of the third feelings what is he could see you\n",
      "that,\" she and. He was a champange as she had said that there\n",
      "would be down in the prince.\n",
      "\n",
      "\"Tomorrow...\"\n",
      "\n",
      "\"Not it seemed. I am very work in three whene to be taken,\" said Vronsky, goesing\n",
      "to the painful table with an old man, smiling, \"wonse of himself and\n",
      "work, but I should. I desire on a starm of thought in such\n",
      "things, and I see, when you want a sense of meaning to you and\n",
      "supporting you to be done, they asked the prayer. And I'm not a minute. I\n",
      "should be so comperisped,\" she went on and sand, \"that I sat some time,\n",
      "took her to me, as though that's what I'm not more and more.\"\n",
      "\n",
      "\"Yes, I shall cease to discuss it!\" she said again at the same \n"
     ]
    }
   ],
   "source": [
    "print(sample(net, 1000, prime='Anna', top_k=5))"
   ]
  },
  {
   "cell_type": "code",
   "execution_count": 18,
   "metadata": {},
   "outputs": [
    {
     "name": "stdout",
     "output_type": "stream",
     "text": [
      "Anna\n",
      "was at once, and the doorway, soing one things standing a landowners\n",
      "that's angiming him.\n",
      "\n",
      "They were not that the father in a legged time tenter and seeing\n",
      "a man that they were alr in already fift else over his feelings. Stepan\n",
      "Arkadyevitch had been a since his birsh to a certain that houre, but\n",
      "her face was in the sates and set in the meesing his brother.\n",
      "\n",
      "\n",
      "\n",
      "Chapter 11\n",
      "\n",
      "\n",
      "The sticking of the press word there was no one and strong an intelligent\n",
      "face. But she was sitting in the same sensation of things and always\n",
      "becoming into the colonel of it and that it was in his eyes.\n",
      "\n",
      "\"I'll set here to manage to that society in the soul of their family to\n",
      "the same singer? What do you come about?... Though!\" said the\n",
      "prince, and angraly smiling.\n",
      "\n",
      "\"You were see them?\"\n",
      "\n",
      "\"I should like to see, and thone must make a serious and closh\n",
      "without anything by new penit and all when you and his wife are not at\n",
      "the sort of a state.\"\n",
      "\n",
      "The crushe house at some words that she saw all he came to hinger than\n",
      "the pr\n"
     ]
    }
   ],
   "source": [
    "print(sample(net, 1000, prime='Anna', top_k=5))"
   ]
  },
  {
   "cell_type": "markdown",
   "metadata": {},
   "source": [
    "## Loading a checkpoint"
   ]
  },
  {
   "cell_type": "code",
   "execution_count": 21,
   "metadata": {},
   "outputs": [],
   "source": [
    "# Here we have loaded in a model that trained over 20 epochs `rnn_20_epoch.net`\n",
    "with open('rnn_20_epoch.net', 'rb') as f:\n",
    "    checkpoint = torch.load(f)\n",
    "    \n",
    "loaded = CharRNN(checkpoint['tokens'], n_hidden=checkpoint['n_hidden'], n_layers=checkpoint['n_layers'])\n",
    "loaded.load_state_dict(checkpoint['state_dict'])"
   ]
  },
  {
   "cell_type": "code",
   "execution_count": 22,
   "metadata": {},
   "outputs": [
    {
     "name": "stdout",
     "output_type": "stream",
     "text": [
      "And Levin said, and\n",
      "talking to him and his son had the sound of his first propriety was at all that\n",
      "shining, that she would not be the secriter to those horses, which\n",
      "had a present first stade of their family, he went out when he was so long while the\n",
      "strong when she saw that the point of care, and the moment's handsome and\n",
      "the choice of the conversation was in letter with a bed and to have\n",
      "to see him, but as a chird stronger with him when the chance were continued that\n",
      "she was dancing, was to get offers, that he had tried to get up, and that\n",
      "she had told her his house, but three men indeed, what they heard to see when he\n",
      "had been said. \"Well, what do you say to that superforming there's a man in that\n",
      "to be supported, and I could not help asking him in such men.\n",
      "That doesn't been to be a carriage, and the personal self-drinking time in\n",
      "society, in the country, while I don't want to struck before him and all\n",
      "about it at ought to say it with him. But I consone of the side of the\n",
      "people were simply indeed, but will you suppose,\" said Levin.\n",
      "\n",
      "\"I am very gearly to tell you, and I see, and I am not their considerations\n",
      "of yourself in that money with his, the carriage though she's a more thoughts. Then you\n",
      "meant in him one thing.\"\n",
      "\n",
      "\"I've ntto metted he has never been dain, while I am as the same\n",
      "thing;\" she said, taking off the barrience, whom were help the\n",
      "strong legs and, then the cart, and settled to her, and was aware to his\n",
      "brother, she was talking after him, as he had to stand them.\n",
      "\n",
      "They herself had been at the matter, and was seening that the\n",
      "princess saw that he, and as soon as she could not see him, and\n",
      "would see it, and had seen home.\n",
      "\n",
      "She was almost the starm of tried to give him a soul when he had a spring on the\n",
      "marnimaners of her. A little who sounds of his wife. And, and all that he\n",
      "was not in a boy with the widder that was immediately, but still this tone\n",
      "the children her despair and he was not a great sort that his brother's\n",
      "house had been almost a give, and was severte\n"
     ]
    }
   ],
   "source": [
    "# Sample using a loaded model\n",
    "print(sample(loaded, 2000, top_k=5, prime=\"And Levin said\"))"
   ]
  },
  {
   "cell_type": "code",
   "execution_count": 21,
   "metadata": {},
   "outputs": [
    {
     "name": "stdout",
     "output_type": "stream",
     "text": [
      "And Levin said that\n",
      "her sustinish contemptuous cares, which is a strangely so much to get\n",
      "awout for the mud. This was the morning about the merchant, would have\n",
      "see through something that she had not to go.\n",
      "\n",
      "They were to come out of the prince. They cared to go to the\n",
      "stranger in the child and their conceptions of the coller the second\n",
      "thoughts in her study to an again and sat something that they ware\n",
      "a chance of hearing.\n",
      "\n",
      "She was not aslucking the same. The committee there\n",
      "was no serious of all that she sees her husband's coat, to bring up a\n",
      "silence.\n",
      "\n",
      "\"Well, with you all at once. In a little common intrughe,\" said\n",
      "Anna. \"The personal time with me, and she wants in the winter.\"\n",
      "\n",
      "\"Yes, I cease see you. I can't begin to see him,\" she said, taking\n",
      "his face, \"I shan't speak of their hand.\"\n",
      "\n",
      "\"What decided I should be in that man who was not an effort.\"\n",
      "\n",
      "\"Yes, it is standing to seak it, and the person, so if he has standing, that\n",
      "is not to be...\"\n",
      "\n",
      "\"I am not all the peasants to get up impossible, woming it all\n",
      "was that to be delighted!\" he said, laughing in a person with the\n",
      "room. He was grown upon her. The stable hands with his serious\n",
      "place.\n",
      "\n",
      "After tried to still meant.\"\n",
      "\n",
      "\"Oh, women. I said nothing; but we're suffering in what you will be the\n",
      "difference it would be to be at that portrait, and she suddenly\n",
      "triult to him.\"\n",
      "\n",
      "\"Well, and there are the conditions of this month or official in the\n",
      "passing the secord man's chrest, because he were to take all the\n",
      "same!\" said Vronsky, and he starten with the first, and went off\n",
      "to him; but he was not till it, and what he had supposed him, but\n",
      "the parting, secret, and sought the door the carriage, and taking\n",
      "the child sook, but heree the portrait their head, the parality to his\n",
      "companion of his bird time, he would ask the straight out as in\n",
      "the children, and was not to blead himself, as he was standing all this,\n",
      "he went to the carriage to talk it, he, with his wife and the saca\n",
      "figures was the princess with a self-camp intriding her a form. She\n",
      "wa\n"
     ]
    }
   ],
   "source": [
    "# Sample using a loaded model\n",
    "print(sample(loaded, 2000, top_k=5, prime=\"And Levin said\"))"
   ]
  },
  {
   "cell_type": "code",
   "execution_count": null,
   "metadata": {},
   "outputs": [],
   "source": []
  }
 ],
 "metadata": {
  "kernelspec": {
   "display_name": "Python 3",
   "language": "python",
   "name": "python3"
  },
  "language_info": {
   "codemirror_mode": {
    "name": "ipython",
    "version": 3
   },
   "file_extension": ".py",
   "mimetype": "text/x-python",
   "name": "python",
   "nbconvert_exporter": "python",
   "pygments_lexer": "ipython3",
   "version": "3.6.3"
  }
 },
 "nbformat": 4,
 "nbformat_minor": 2
}
